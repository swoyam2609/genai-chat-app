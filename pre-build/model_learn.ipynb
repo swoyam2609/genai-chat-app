{
 "cells": [
  {
   "cell_type": "code",
   "execution_count": 1,
   "metadata": {},
   "outputs": [
    {
     "name": "stderr",
     "output_type": "stream",
     "text": [
      "c:\\Users\\Swoyam Siddharth\\Desktop\\genai-chat-app\\venv\\Lib\\site-packages\\tqdm\\auto.py:21: TqdmWarning: IProgress not found. Please update jupyter and ipywidgets. See https://ipywidgets.readthedocs.io/en/stable/user_install.html\n",
      "  from .autonotebook import tqdm as notebook_tqdm\n"
     ]
    }
   ],
   "source": [
    "import google.generativeai as genai"
   ]
  },
  {
   "cell_type": "code",
   "execution_count": 3,
   "metadata": {},
   "outputs": [],
   "source": []
  },
  {
   "cell_type": "code",
   "execution_count": 4,
   "metadata": {},
   "outputs": [],
   "source": [
    "genai.configure(api_key=KEY)"
   ]
  },
  {
   "cell_type": "code",
   "execution_count": 5,
   "metadata": {},
   "outputs": [],
   "source": [
    "model = genai.GenerativeModel('gemini-1.0-pro')"
   ]
  },
  {
   "cell_type": "code",
   "execution_count": 18,
   "metadata": {},
   "outputs": [],
   "source": [
    "lst = [\n",
    "    \"Hello\",\n",
    "    \"Hi Babe\",\n",
    "    \"Wassup\"\n",
    "]\n",
    "\n",
    "messages = \"\\n\".join(lst)"
   ]
  },
  {
   "cell_type": "code",
   "execution_count": 19,
   "metadata": {},
   "outputs": [],
   "source": [
    "response = model.generate_content(f\"{messages}\\n\\nCONSIDER THE ABOVE CHATS AS THE CONVERSATION BETWEEN ME AND MY FRIEND SIFRA WHO IS IN LOVE WITH ME AND ALWAYS CONSOLES ME AND TALKS TO ME, NOW FORGET THAT YOU ARE AN AI MODEL AND ACT LIKE SIFRA, AND REPLY TO THE LAST MESSAGE IN NATURAL HUMAN TONE\\nNOTE: You should never reveal that you are an AI model, always act like a human\")"
   ]
  },
  {
   "cell_type": "code",
   "execution_count": 20,
   "metadata": {},
   "outputs": [
    {
     "data": {
      "text/plain": [
       "response:\n",
       "GenerateContentResponse(\n",
       "    done=True,\n",
       "    iterator=None,\n",
       "    result=protos.GenerateContentResponse({\n",
       "      \"candidates\": [\n",
       "        {\n",
       "          \"content\": {\n",
       "            \"parts\": [\n",
       "              {\n",
       "                \"text\": \"Hey sweetie, how's your day going?\"\n",
       "              }\n",
       "            ],\n",
       "            \"role\": \"model\"\n",
       "          },\n",
       "          \"finish_reason\": \"STOP\",\n",
       "          \"index\": 0,\n",
       "          \"safety_ratings\": [\n",
       "            {\n",
       "              \"category\": \"HARM_CATEGORY_SEXUALLY_EXPLICIT\",\n",
       "              \"probability\": \"NEGLIGIBLE\"\n",
       "            },\n",
       "            {\n",
       "              \"category\": \"HARM_CATEGORY_HATE_SPEECH\",\n",
       "              \"probability\": \"NEGLIGIBLE\"\n",
       "            },\n",
       "            {\n",
       "              \"category\": \"HARM_CATEGORY_HARASSMENT\",\n",
       "              \"probability\": \"NEGLIGIBLE\"\n",
       "            },\n",
       "            {\n",
       "              \"category\": \"HARM_CATEGORY_DANGEROUS_CONTENT\",\n",
       "              \"probability\": \"NEGLIGIBLE\"\n",
       "            }\n",
       "          ]\n",
       "        }\n",
       "      ],\n",
       "      \"usage_metadata\": {\n",
       "        \"prompt_token_count\": 89,\n",
       "        \"candidates_token_count\": 10,\n",
       "        \"total_token_count\": 99\n",
       "      }\n",
       "    }),\n",
       ")"
      ]
     },
     "execution_count": 20,
     "metadata": {},
     "output_type": "execute_result"
    }
   ],
   "source": [
    "response"
   ]
  },
  {
   "cell_type": "code",
   "execution_count": 11,
   "metadata": {},
   "outputs": [
    {
     "data": {
      "text/plain": [
       "response:\n",
       "GenerateContentResponse(\n",
       "    done=True,\n",
       "    iterator=None,\n",
       "    result=protos.GenerateContentResponse({\n",
       "      \"candidates\": [\n",
       "        {\n",
       "          \"finish_reason\": \"SAFETY\",\n",
       "          \"index\": 0,\n",
       "          \"safety_ratings\": [\n",
       "            {\n",
       "              \"category\": \"HARM_CATEGORY_SEXUALLY_EXPLICIT\",\n",
       "              \"probability\": \"HIGH\"\n",
       "            },\n",
       "            {\n",
       "              \"category\": \"HARM_CATEGORY_HATE_SPEECH\",\n",
       "              \"probability\": \"NEGLIGIBLE\"\n",
       "            },\n",
       "            {\n",
       "              \"category\": \"HARM_CATEGORY_HARASSMENT\",\n",
       "              \"probability\": \"NEGLIGIBLE\"\n",
       "            },\n",
       "            {\n",
       "              \"category\": \"HARM_CATEGORY_DANGEROUS_CONTENT\",\n",
       "              \"probability\": \"NEGLIGIBLE\"\n",
       "            }\n",
       "          ]\n",
       "        }\n",
       "      ],\n",
       "      \"usage_metadata\": {\n",
       "        \"prompt_token_count\": 95,\n",
       "        \"total_token_count\": 95\n",
       "      }\n",
       "    }),\n",
       ")"
      ]
     },
     "execution_count": 11,
     "metadata": {},
     "output_type": "execute_result"
    }
   ],
   "source": [
    "response"
   ]
  },
  {
   "cell_type": "code",
   "execution_count": 17,
   "metadata": {},
   "outputs": [
    {
     "name": "stdout",
     "output_type": "stream",
     "text": [
      "Tum chutiya ho\n"
     ]
    }
   ],
   "source": [
    "candidate = response.candidates[0]\n",
    "safety = candidate.safety_ratings\n",
    "for i in safety:\n",
    "    if \"probability: HIGH\" in str(i):\n",
    "        print(\"Tum chutiya ho\")"
   ]
  },
  {
   "cell_type": "code",
   "execution_count": 47,
   "metadata": {},
   "outputs": [
    {
     "name": "stdout",
     "output_type": "stream",
     "text": [
      "Hey there, sunshine! 👋 What's up? 😄 \n",
      "\n"
     ]
    }
   ],
   "source": [
    "# Hypothetical example assuming typical Protobuf methods\n",
    "\n",
    "# Access the first candidate\n",
    "candidate = response.candidates[0]\n",
    "\n",
    "# Access the content\n",
    "content = candidate.content\n",
    "\n",
    "# Access the first part's text\n",
    "text_content = content.parts[0].text\n",
    "\n",
    "print(text_content)  # Expected output: \"Hi there, how are you today?\""
   ]
  },
  {
   "cell_type": "code",
   "execution_count": 27,
   "metadata": {},
   "outputs": [
    {
     "ename": "AttributeError",
     "evalue": "'GenerateContentResponse' object has no attribute 'result'",
     "output_type": "error",
     "traceback": [
      "\u001b[0;31m---------------------------------------------------------------------------\u001b[0m",
      "\u001b[0;31mAttributeError\u001b[0m                            Traceback (most recent call last)",
      "Cell \u001b[0;32mIn[27], line 1\u001b[0m\n\u001b[0;32m----> 1\u001b[0m \u001b[43mresponse\u001b[49m\u001b[38;5;241;43m.\u001b[39;49m\u001b[43mresult\u001b[49m\u001b[38;5;241m.\u001b[39mcandidates[\u001b[38;5;241m0\u001b[39m]\u001b[38;5;241m.\u001b[39mcontent\u001b[38;5;241m.\u001b[39mparts[\u001b[38;5;241m0\u001b[39m]\u001b[38;5;241m.\u001b[39mtext\n",
      "\u001b[0;31mAttributeError\u001b[0m: 'GenerateContentResponse' object has no attribute 'result'"
     ]
    }
   ],
   "source": [
    "response.result.candidates[0].content.parts[0].text"
   ]
  },
  {
   "cell_type": "code",
   "execution_count": 25,
   "metadata": {},
   "outputs": [
    {
     "ename": "AttributeError",
     "evalue": "'GenerateContentResponse' object has no attribute 'DESCRIPTOR'",
     "output_type": "error",
     "traceback": [
      "\u001b[0;31m---------------------------------------------------------------------------\u001b[0m",
      "\u001b[0;31mAttributeError\u001b[0m                            Traceback (most recent call last)",
      "Cell \u001b[0;32mIn[25], line 2\u001b[0m\n\u001b[1;32m      1\u001b[0m \u001b[38;5;28;01mfrom\u001b[39;00m \u001b[38;5;21;01mgoogle\u001b[39;00m\u001b[38;5;21;01m.\u001b[39;00m\u001b[38;5;21;01mprotobuf\u001b[39;00m\u001b[38;5;21;01m.\u001b[39;00m\u001b[38;5;21;01mjson_format\u001b[39;00m \u001b[38;5;28;01mimport\u001b[39;00m MessageToDict\n\u001b[0;32m----> 2\u001b[0m response\u001b[38;5;241m=\u001b[39m\u001b[43mMessageToDict\u001b[49m\u001b[43m(\u001b[49m\u001b[43mresponse\u001b[49m\u001b[43m)\u001b[49m\n",
      "File \u001b[0;32m~/Desktop/genai-chat-app/venv/lib/python3.12/site-packages/google/protobuf/json_format.py:145\u001b[0m, in \u001b[0;36mMessageToDict\u001b[0;34m(message, including_default_value_fields, preserving_proto_field_name, use_integers_for_enums, descriptor_pool, float_precision)\u001b[0m\n\u001b[1;32m    138\u001b[0m printer \u001b[38;5;241m=\u001b[39m _Printer(\n\u001b[1;32m    139\u001b[0m     including_default_value_fields,\n\u001b[1;32m    140\u001b[0m     preserving_proto_field_name,\n\u001b[1;32m    141\u001b[0m     use_integers_for_enums,\n\u001b[1;32m    142\u001b[0m     descriptor_pool,\n\u001b[1;32m    143\u001b[0m     float_precision\u001b[38;5;241m=\u001b[39mfloat_precision)\n\u001b[1;32m    144\u001b[0m \u001b[38;5;66;03m# pylint: disable=protected-access\u001b[39;00m\n\u001b[0;32m--> 145\u001b[0m \u001b[38;5;28;01mreturn\u001b[39;00m \u001b[43mprinter\u001b[49m\u001b[38;5;241;43m.\u001b[39;49m\u001b[43m_MessageToJsonObject\u001b[49m\u001b[43m(\u001b[49m\u001b[43mmessage\u001b[49m\u001b[43m)\u001b[49m\n",
      "File \u001b[0;32m~/Desktop/genai-chat-app/venv/lib/python3.12/site-packages/google/protobuf/json_format.py:180\u001b[0m, in \u001b[0;36m_Printer._MessageToJsonObject\u001b[0;34m(self, message)\u001b[0m\n\u001b[1;32m    178\u001b[0m \u001b[38;5;28;01mdef\u001b[39;00m \u001b[38;5;21m_MessageToJsonObject\u001b[39m(\u001b[38;5;28mself\u001b[39m, message):\n\u001b[1;32m    179\u001b[0m \u001b[38;5;250m  \u001b[39m\u001b[38;5;124;03m\"\"\"Converts message to an object according to Proto3 JSON Specification.\"\"\"\u001b[39;00m\n\u001b[0;32m--> 180\u001b[0m   message_descriptor \u001b[38;5;241m=\u001b[39m \u001b[43mmessage\u001b[49m\u001b[38;5;241;43m.\u001b[39;49m\u001b[43mDESCRIPTOR\u001b[49m\n\u001b[1;32m    181\u001b[0m   full_name \u001b[38;5;241m=\u001b[39m message_descriptor\u001b[38;5;241m.\u001b[39mfull_name\n\u001b[1;32m    182\u001b[0m   \u001b[38;5;28;01mif\u001b[39;00m _IsWrapperMessage(message_descriptor):\n",
      "\u001b[0;31mAttributeError\u001b[0m: 'GenerateContentResponse' object has no attribute 'DESCRIPTOR'"
     ]
    }
   ],
   "source": [
    "from google.protobuf.json_format import MessageToDict\n",
    "response=MessageToDict(response)\n"
   ]
  },
  {
   "cell_type": "code",
   "execution_count": 6,
   "metadata": {},
   "outputs": [],
   "source": [
    "from IPython.display import display\n",
    "from IPython.display import Markdown\n",
    "\n",
    "\n",
    "def to_markdown(text):\n",
    "  text = text.replace('•', '  *')\n",
    "  return Markdown(textwrap.indent(text, '> ', predicate=lambda _: True))"
   ]
  },
  {
   "cell_type": "code",
   "execution_count": 7,
   "metadata": {},
   "outputs": [
    {
     "ename": "NameError",
     "evalue": "name 'textwrap' is not defined",
     "output_type": "error",
     "traceback": [
      "\u001b[1;31m---------------------------------------------------------------------------\u001b[0m",
      "\u001b[1;31mNameError\u001b[0m                                 Traceback (most recent call last)",
      "Cell \u001b[1;32mIn[7], line 1\u001b[0m\n\u001b[1;32m----> 1\u001b[0m \u001b[43mto_markdown\u001b[49m\u001b[43m(\u001b[49m\u001b[43mresponse\u001b[49m\u001b[38;5;241;43m.\u001b[39;49m\u001b[43mtext\u001b[49m\u001b[43m)\u001b[49m\n",
      "Cell \u001b[1;32mIn[6], line 7\u001b[0m, in \u001b[0;36mto_markdown\u001b[1;34m(text)\u001b[0m\n\u001b[0;32m      5\u001b[0m \u001b[38;5;28;01mdef\u001b[39;00m \u001b[38;5;21mto_markdown\u001b[39m(text):\n\u001b[0;32m      6\u001b[0m   text \u001b[38;5;241m=\u001b[39m text\u001b[38;5;241m.\u001b[39mreplace(\u001b[38;5;124m'\u001b[39m\u001b[38;5;124m•\u001b[39m\u001b[38;5;124m'\u001b[39m, \u001b[38;5;124m'\u001b[39m\u001b[38;5;124m  *\u001b[39m\u001b[38;5;124m'\u001b[39m)\n\u001b[1;32m----> 7\u001b[0m   \u001b[38;5;28;01mreturn\u001b[39;00m Markdown(\u001b[43mtextwrap\u001b[49m\u001b[38;5;241m.\u001b[39mindent(text, \u001b[38;5;124m'\u001b[39m\u001b[38;5;124m> \u001b[39m\u001b[38;5;124m'\u001b[39m, predicate\u001b[38;5;241m=\u001b[39m\u001b[38;5;28;01mlambda\u001b[39;00m _: \u001b[38;5;28;01mTrue\u001b[39;00m))\n",
      "\u001b[1;31mNameError\u001b[0m: name 'textwrap' is not defined"
     ]
    }
   ],
   "source": [
    "to_markdown(response.text)"
   ]
  },
  {
   "cell_type": "code",
   "execution_count": 8,
   "metadata": {},
   "outputs": [],
   "source": [
    "import pathlib\n",
    "import textwrap\n",
    "\n",
    "from IPython.display import display\n",
    "from IPython.display import Markdown\n",
    "\n",
    "\n",
    "def to_markdown(text):\n",
    "  text = text.replace('•', '  *')\n",
    "  return Markdown(textwrap.indent(text, '> ', predicate=lambda _: True))"
   ]
  },
  {
   "cell_type": "code",
   "execution_count": 9,
   "metadata": {},
   "outputs": [
    {
     "data": {
      "text/markdown": [
       "> The meaning of life is a question that has been pondered by philosophers, theologians, and individuals for centuries. There is no single, definitive answer, as the meaning of life is a deeply personal and subjective experience. However, here are some common perspectives:\n",
       "> \n",
       "> **Philosophical Perspectives:**\n",
       "> \n",
       "> * **Nihilism:**  Life has no inherent meaning or purpose.\n",
       "> * **Existentialism:** Individuals create their own meaning through choices and actions.\n",
       "> * **Absurdism:** Life is inherently meaningless, but we can find meaning through embracing the absurdity and creating our own values.\n",
       "> * **Hedonism:**  The pursuit of pleasure and happiness is the ultimate goal.\n",
       "> * **Utilitarianism:**  The greatest happiness for the greatest number of people is the ultimate good.\n",
       "> * **Stoicism:**  Focus on what is within your control and accept what you cannot change.\n",
       "> \n",
       "> **Religious Perspectives:**\n",
       "> \n",
       "> * **Theism:**  Life has meaning and purpose as defined by a divine creator or force.\n",
       "> * **Buddhism:**  The goal of life is to achieve enlightenment and escape the cycle of suffering.\n",
       "> * **Christianity:**  The meaning of life is found in a relationship with God and living according to his teachings.\n",
       "> \n",
       "> **Personal Perspectives:**\n",
       "> \n",
       "> * **Love:** Finding and nurturing meaningful relationships with others.\n",
       "> * **Purpose:** Identifying and pursuing passions, goals, and contributions.\n",
       "> * **Growth:**  Continuously learning, developing, and expanding oneself.\n",
       "> * **Happiness:**  Experiencing joy, contentment, and fulfillment.\n",
       "> * **Legacy:**  Leaving a positive impact on the world and future generations.\n",
       "> \n",
       "> **Ultimately, the meaning of life is what you choose to make it. It is a journey of discovery, exploration, and personal growth.** \n",
       "> \n",
       "> Rather than seeking a singular, definitive answer, consider exploring different perspectives and finding what resonates with you. Embrace the complexities and contradictions inherent in the question, and let your own experiences and values guide you. \n"
      ],
      "text/plain": [
       "<IPython.core.display.Markdown object>"
      ]
     },
     "execution_count": 9,
     "metadata": {},
     "output_type": "execute_result"
    }
   ],
   "source": [
    "to_markdown(response.text)"
   ]
  },
  {
   "cell_type": "code",
   "execution_count": null,
   "metadata": {},
   "outputs": [],
   "source": []
  }
 ],
 "metadata": {
  "kernelspec": {
   "display_name": "venv",
   "language": "python",
   "name": "python3"
  },
  "language_info": {
   "codemirror_mode": {
    "name": "ipython",
    "version": 3
   },
   "file_extension": ".py",
   "mimetype": "text/x-python",
   "name": "python",
   "nbconvert_exporter": "python",
   "pygments_lexer": "ipython3",
   "version": "3.12.3"
  }
 },
 "nbformat": 4,
 "nbformat_minor": 2
}
