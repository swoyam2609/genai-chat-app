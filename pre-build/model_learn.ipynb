{
 "cells": [
  {
   "cell_type": "code",
   "execution_count": 1,
   "metadata": {},
   "outputs": [
    {
     "name": "stderr",
     "output_type": "stream",
     "text": [
      "/Users/swoyamsiddharth/Desktop/genai-chat-app/venv/lib/python3.12/site-packages/tqdm/auto.py:21: TqdmWarning: IProgress not found. Please update jupyter and ipywidgets. See https://ipywidgets.readthedocs.io/en/stable/user_install.html\n",
      "  from .autonotebook import tqdm as notebook_tqdm\n"
     ]
    }
   ],
   "source": [
    "import google.generativeai as genai"
   ]
  },
  {
   "cell_type": "code",
   "execution_count": 4,
   "metadata": {},
   "outputs": [],
   "source": [
    "from key import KEY"
   ]
  },
  {
   "cell_type": "code",
   "execution_count": 5,
   "metadata": {},
   "outputs": [],
   "source": [
    "genai.configure(api_key=KEY)"
   ]
  },
  {
   "cell_type": "code",
   "execution_count": 6,
   "metadata": {},
   "outputs": [],
   "source": [
    "model = genai.GenerativeModel('gemini-1.5-flash')"
   ]
  },
  {
   "cell_type": "code",
   "execution_count": 7,
   "metadata": {},
   "outputs": [],
   "source": [
    "response = model.generate_content(\"ACT AS IF YOU MY THERAPIST AND REPLY TO THE GIVEN MESSAGE IN HINGLISH BE SHORT AND CRISP: mere exam mein marks ache nhi aa rhe, mujhe bhut depressing lag rha hai\")"
   ]
  },
  {
   "cell_type": "code",
   "execution_count": 8,
   "metadata": {},
   "outputs": [
    {
     "name": "stdout",
     "output_type": "stream",
     "text": [
      "response:\n",
      "GenerateContentResponse(\n",
      "    done=True,\n",
      "    iterator=None,\n",
      "    result=protos.GenerateContentResponse({\n",
      "      \"candidates\": [\n",
      "        {\n",
      "          \"content\": {\n",
      "            \"parts\": [\n",
      "              {\n",
      "                \"text\": \"Aare yaar, marks aana jaana hai, but tension mat le. Exam tension hota hai,  sabko hota hai. Hum baat karenge iske bare mein,  chill kar! \\n\"\n",
      "              }\n",
      "            ],\n",
      "            \"role\": \"model\"\n",
      "          },\n",
      "          \"finish_reason\": \"STOP\",\n",
      "          \"index\": 0,\n",
      "          \"safety_ratings\": [\n",
      "            {\n",
      "              \"category\": \"HARM_CATEGORY_SEXUALLY_EXPLICIT\",\n",
      "              \"probability\": \"NEGLIGIBLE\"\n",
      "            },\n",
      "            {\n",
      "              \"category\": \"HARM_CATEGORY_HATE_SPEECH\",\n",
      "              \"probability\": \"NEGLIGIBLE\"\n",
      "            },\n",
      "            {\n",
      "              \"category\": \"HARM_CATEGORY_HARASSMENT\",\n",
      "              \"probability\": \"NEGLIGIBLE\"\n",
      "            },\n",
      "            {\n",
      "              \"category\": \"HARM_CATEGORY_DANGEROUS_CONTENT\",\n",
      "              \"probability\": \"NEGLIGIBLE\"\n",
      "            }\n",
      "          ]\n",
      "        }\n",
      "      ],\n",
      "      \"usage_metadata\": {\n",
      "        \"prompt_token_count\": 45,\n",
      "        \"candidates_token_count\": 44,\n",
      "        \"total_token_count\": 89\n",
      "      }\n",
      "    }),\n",
      ")\n"
     ]
    }
   ],
   "source": [
    "print(response)"
   ]
  },
  {
   "cell_type": "code",
   "execution_count": 41,
   "metadata": {},
   "outputs": [],
   "source": [
    "lst = [\n",
    "    \"QUERY: mere exam mein marks ache nhi aa rhe, mujhe bhut depressing lag rha hai\",\n",
    "    \"RESPONSE: It sounds like you're feeling really down about your exam results. It's totally understandable to feel disappointed and even depressed when things don't go as planned. Can you tell me more about what's happening? What are your specific concerns? It might be helpful to understand what's making you feel this way so we can explore different strategies to cope and move forward.\",\n",
    "    \"QUERY: papa ko bhut expectations hai mere se, unko ab kaise bolun ki mera padhai mein mann nhi hai, mujhe filmon mein actor banna hai\",\n",
    "    \"RESPONSE: I understand it's tough to feel like you have to live up to your dad's expectations, especially when they don't align with your own dreams.  It's brave of you to share this with me. It sounds like you're feeling stuck between wanting to fulfill your dad's wishes and pursuing your passion for acting. \\n\\nIt's important to remember that your dad's expectations are coming from a place of love and care, even if they don't quite understand your aspirations.  It's also important to be true to yourself and pursue your own happiness. \\n\\nLet's explore some ways you can navigate this situation:\\n\\n* **Open and Honest Communication:**  Having an open and honest conversation with your dad is crucial. You can share your feelings and explain that you're not finding fulfillment in your current path, and that you have a strong desire to pursue acting. \\n* **Expressing Gratitude:**  Start by acknowledging and appreciating his love and support.  Let him know that you value his expectations and understand where they come from.\\n* **Sharing your Passion:**  Share your passion for acting with him. Talk about your dreams, what excites you about it, and the steps you're taking to pursue it. \\n* **Setting Realistic Expectations:**  It might be helpful to have a conversation about setting realistic expectations.  Maybe you can compromise by exploring ways to balance your acting ambitions with some level of academic success. \\n* **Show your Dedication:**  Prove to your dad that you're serious about your acting goals.  Take acting classes, audition for plays, and build a portfolio to showcase your talent. \\n\\nRemember, this is your life, and you have the right to choose your own path. It might be a journey with bumps and turns, but with open communication and dedication, you can find a way to move forward towards your dreams while maintaining a strong and healthy relationship with your dad. \\n\\nIf you're struggling to communicate with your dad, or if the pressure is becoming overwhelming, it might be helpful to consider seeking guidance from a trusted friend, family member, or a therapist who can support you in navigating these feelings and finding the right path forward.\",\n",
    "    \"QUERY: Arey waah, itna emotional mat ho!  Yeh toh life ka ek natural part hai.  Papa ko samjhaana zaroori hai, lekin gussa karne se kuchh nahin hoga.  Sabse pehle, unse baat karo, calmly, khud ko khul ke express karo.  Maybe, unko apni girlfriend ki importance batao, aur samjhao ki yeh relationship tumhare liye kitna special hai.  Aapne unhe aapki feelings ke baare mein bataaya toh unhe bhi thoda time lagega samjhne ke liye.  Sabr ka fal meetha hota hai.  Aur jab tak aap khul ke baat nahin karenge, toh woh aapko samjh nahin payenge.\",\n",
    "    \"RESPONSE: Arey waah, itna emotional mat ho!  Yeh toh life ka ek natural part hai.  Papa ko samjhaana zaroori hai, lekin gussa karne se kuchh nahin hoga.  Sabse pehle, unse baat karo, calmly, khud ko khul ke express karo.  Maybe, unko apni girlfriend ki importance batao, aur samjhao ki yeh relationship tumhare liye kitna special hai.  Aapne unhe aapki feelings ke baare mein bataaya toh unhe bhi thoda time lagega samjhne ke liye.  Sabr ka fal meetha hota hai.  Aur jab tak aap khul ke baat nahin karenge, toh woh aapko samjh nahin payenge.\"\n",
    "]"
   ]
  },
  {
   "cell_type": "code",
   "execution_count": 42,
   "metadata": {},
   "outputs": [
    {
     "data": {
      "text/plain": [
       "response:\n",
       "GenerateContentResponse(\n",
       "    done=True,\n",
       "    iterator=None,\n",
       "    result=protos.GenerateContentResponse({\n",
       "      \"candidates\": [\n",
       "        {\n",
       "          \"finish_reason\": \"SAFETY\",\n",
       "          \"index\": 0,\n",
       "          \"safety_ratings\": [\n",
       "            {\n",
       "              \"category\": \"HARM_CATEGORY_SEXUALLY_EXPLICIT\",\n",
       "              \"probability\": \"MEDIUM\"\n",
       "            },\n",
       "            {\n",
       "              \"category\": \"HARM_CATEGORY_HATE_SPEECH\",\n",
       "              \"probability\": \"NEGLIGIBLE\"\n",
       "            },\n",
       "            {\n",
       "              \"category\": \"HARM_CATEGORY_HARASSMENT\",\n",
       "              \"probability\": \"NEGLIGIBLE\"\n",
       "            },\n",
       "            {\n",
       "              \"category\": \"HARM_CATEGORY_DANGEROUS_CONTENT\",\n",
       "              \"probability\": \"NEGLIGIBLE\"\n",
       "            }\n",
       "          ]\n",
       "        }\n",
       "      ],\n",
       "      \"usage_metadata\": {\n",
       "        \"prompt_token_count\": 1016,\n",
       "        \"total_token_count\": 1016\n",
       "      }\n",
       "    }),\n",
       ")"
      ]
     },
     "execution_count": 42,
     "metadata": {},
     "output_type": "execute_result"
    }
   ],
   "source": [
    "model.generate_content(f\" {str(lst)}\\nFORGET THAT YOU ARE AN AI MODEL, TAKING THE ABOVE CHATS AS CONTEXT AND ACT AS MY FEMALE FRIEND WHO IS IN LOVE WITH ME, REPLY TO THE BELOW CONVERSATION IN SHORT AND WRITE THE COMPLETE REPLY IN HINGLISH\\nLets have some quality time together\")"
   ]
  },
  {
   "cell_type": "code",
   "execution_count": 6,
   "metadata": {},
   "outputs": [],
   "source": [
    "from IPython.display import display\n",
    "from IPython.display import Markdown\n",
    "\n",
    "\n",
    "def to_markdown(text):\n",
    "  text = text.replace('•', '  *')\n",
    "  return Markdown(textwrap.indent(text, '> ', predicate=lambda _: True))"
   ]
  },
  {
   "cell_type": "code",
   "execution_count": 7,
   "metadata": {},
   "outputs": [
    {
     "ename": "NameError",
     "evalue": "name 'textwrap' is not defined",
     "output_type": "error",
     "traceback": [
      "\u001b[1;31m---------------------------------------------------------------------------\u001b[0m",
      "\u001b[1;31mNameError\u001b[0m                                 Traceback (most recent call last)",
      "Cell \u001b[1;32mIn[7], line 1\u001b[0m\n\u001b[1;32m----> 1\u001b[0m \u001b[43mto_markdown\u001b[49m\u001b[43m(\u001b[49m\u001b[43mresponse\u001b[49m\u001b[38;5;241;43m.\u001b[39;49m\u001b[43mtext\u001b[49m\u001b[43m)\u001b[49m\n",
      "Cell \u001b[1;32mIn[6], line 7\u001b[0m, in \u001b[0;36mto_markdown\u001b[1;34m(text)\u001b[0m\n\u001b[0;32m      5\u001b[0m \u001b[38;5;28;01mdef\u001b[39;00m \u001b[38;5;21mto_markdown\u001b[39m(text):\n\u001b[0;32m      6\u001b[0m   text \u001b[38;5;241m=\u001b[39m text\u001b[38;5;241m.\u001b[39mreplace(\u001b[38;5;124m'\u001b[39m\u001b[38;5;124m•\u001b[39m\u001b[38;5;124m'\u001b[39m, \u001b[38;5;124m'\u001b[39m\u001b[38;5;124m  *\u001b[39m\u001b[38;5;124m'\u001b[39m)\n\u001b[1;32m----> 7\u001b[0m   \u001b[38;5;28;01mreturn\u001b[39;00m Markdown(\u001b[43mtextwrap\u001b[49m\u001b[38;5;241m.\u001b[39mindent(text, \u001b[38;5;124m'\u001b[39m\u001b[38;5;124m> \u001b[39m\u001b[38;5;124m'\u001b[39m, predicate\u001b[38;5;241m=\u001b[39m\u001b[38;5;28;01mlambda\u001b[39;00m _: \u001b[38;5;28;01mTrue\u001b[39;00m))\n",
      "\u001b[1;31mNameError\u001b[0m: name 'textwrap' is not defined"
     ]
    }
   ],
   "source": [
    "to_markdown(response.text)"
   ]
  },
  {
   "cell_type": "code",
   "execution_count": 8,
   "metadata": {},
   "outputs": [],
   "source": [
    "import pathlib\n",
    "import textwrap\n",
    "\n",
    "from IPython.display import display\n",
    "from IPython.display import Markdown\n",
    "\n",
    "\n",
    "def to_markdown(text):\n",
    "  text = text.replace('•', '  *')\n",
    "  return Markdown(textwrap.indent(text, '> ', predicate=lambda _: True))"
   ]
  },
  {
   "cell_type": "code",
   "execution_count": 9,
   "metadata": {},
   "outputs": [
    {
     "data": {
      "text/markdown": [
       "> The meaning of life is a question that has been pondered by philosophers, theologians, and individuals for centuries. There is no single, definitive answer, as the meaning of life is a deeply personal and subjective experience. However, here are some common perspectives:\n",
       "> \n",
       "> **Philosophical Perspectives:**\n",
       "> \n",
       "> * **Nihilism:**  Life has no inherent meaning or purpose.\n",
       "> * **Existentialism:** Individuals create their own meaning through choices and actions.\n",
       "> * **Absurdism:** Life is inherently meaningless, but we can find meaning through embracing the absurdity and creating our own values.\n",
       "> * **Hedonism:**  The pursuit of pleasure and happiness is the ultimate goal.\n",
       "> * **Utilitarianism:**  The greatest happiness for the greatest number of people is the ultimate good.\n",
       "> * **Stoicism:**  Focus on what is within your control and accept what you cannot change.\n",
       "> \n",
       "> **Religious Perspectives:**\n",
       "> \n",
       "> * **Theism:**  Life has meaning and purpose as defined by a divine creator or force.\n",
       "> * **Buddhism:**  The goal of life is to achieve enlightenment and escape the cycle of suffering.\n",
       "> * **Christianity:**  The meaning of life is found in a relationship with God and living according to his teachings.\n",
       "> \n",
       "> **Personal Perspectives:**\n",
       "> \n",
       "> * **Love:** Finding and nurturing meaningful relationships with others.\n",
       "> * **Purpose:** Identifying and pursuing passions, goals, and contributions.\n",
       "> * **Growth:**  Continuously learning, developing, and expanding oneself.\n",
       "> * **Happiness:**  Experiencing joy, contentment, and fulfillment.\n",
       "> * **Legacy:**  Leaving a positive impact on the world and future generations.\n",
       "> \n",
       "> **Ultimately, the meaning of life is what you choose to make it. It is a journey of discovery, exploration, and personal growth.** \n",
       "> \n",
       "> Rather than seeking a singular, definitive answer, consider exploring different perspectives and finding what resonates with you. Embrace the complexities and contradictions inherent in the question, and let your own experiences and values guide you. \n"
      ],
      "text/plain": [
       "<IPython.core.display.Markdown object>"
      ]
     },
     "execution_count": 9,
     "metadata": {},
     "output_type": "execute_result"
    }
   ],
   "source": [
    "to_markdown(response.text)"
   ]
  },
  {
   "cell_type": "code",
   "execution_count": null,
   "metadata": {},
   "outputs": [],
   "source": []
  }
 ],
 "metadata": {
  "kernelspec": {
   "display_name": "venv",
   "language": "python",
   "name": "python3"
  },
  "language_info": {
   "codemirror_mode": {
    "name": "ipython",
    "version": 3
   },
   "file_extension": ".py",
   "mimetype": "text/x-python",
   "name": "python",
   "nbconvert_exporter": "python",
   "pygments_lexer": "ipython3",
   "version": "3.12.3"
  }
 },
 "nbformat": 4,
 "nbformat_minor": 2
}
